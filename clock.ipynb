{
 "cells": [
  {
   "cell_type": "code",
   "execution_count": null,
   "id": "b86a133d-af31-48f7-9af8-99b1d08fe5e8",
   "metadata": {},
   "outputs": [],
   "source": [
    "class Clock():\n",
    "    def __init__(self,size=3):\n",
    "        self.size=size\n",
    "        self.lst=[None for i in range(size)]\n",
    "        self.lstR=[-1 for i in range(size)]\n",
    "        self.num_sub=0\n",
    "        self.ptr=0\n",
    "    def next(self):\n",
    "        self.ptr=self.ptr+1 if self.ptr<self.size-1 else 0\n",
    "    def show(self):\n",
    "        for i in range(self.size):\n",
    "            # if self.lst[i] is None:\n",
    "            #     break\n",
    "            print((self.lst[i],self.lstR[i]),\"<--\"if self.ptr==i else \"\")\n",
    "        print()\n",
    "    def Action(self,page):\n",
    "        if page in self.lst:#does not move if page exists\n",
    "            self.lstR[self.lst.index(page)]=1\n",
    "            self.show()\n",
    "            return True \n",
    "        while(True):               \n",
    "            if self.lstR[self.ptr]<=0:   #substitution\n",
    "                self.lst[self.ptr]=page\n",
    "                self.lstR[self.ptr]=1\n",
    "                self.next()\n",
    "                self.num_sub+=1\n",
    "                self.show()\n",
    "                return True\n",
    "            else: \n",
    "                self.lstR[self.ptr]=0   \n",
    "                self.next() "
   ]
  },
  {
   "cell_type": "code",
   "execution_count": null,
   "id": "9f169e76-6d99-4ca8-8837-f1db679f5288",
   "metadata": {},
   "outputs": [],
   "source": [
    "clock=Clock(int(input(\"enter size:\")))"
   ]
  },
  {
   "cell_type": "code",
   "execution_count": null,
   "id": "8adb8182-bf09-4d08-9c81-3c2bf04b2c98",
   "metadata": {},
   "outputs": [],
   "source": [
    "while(True):\n",
    "   clock.Action(input(\"ENTER PAGE : \"))"
   ]
  }
 ],
 "metadata": {
  "kernelspec": {
   "display_name": "Python 3 (ipykernel)",
   "language": "python",
   "name": "python3"
  },
  "language_info": {
   "codemirror_mode": {
    "name": "ipython",
    "version": 3
   },
   "file_extension": ".py",
   "mimetype": "text/x-python",
   "name": "python",
   "nbconvert_exporter": "python",
   "pygments_lexer": "ipython3",
   "version": "3.13.0"
  }
 },
 "nbformat": 4,
 "nbformat_minor": 5
}
